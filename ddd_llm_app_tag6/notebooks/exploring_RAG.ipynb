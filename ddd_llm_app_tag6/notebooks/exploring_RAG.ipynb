{
 "cells": [
  {
   "cell_type": "markdown",
   "id": "dd073b6aa1b2a95d",
   "metadata": {},
   "source": [
    "# Exploring DDD model inference with RAG and OpenAI"
   ]
  },
  {
   "cell_type": "markdown",
   "id": "0dd99490-8519-4361-9b31-060d4973a188",
   "metadata": {},
   "source": [
    "In this notebook we explore the API and building blocks which are part of a LLM using RAG."
   ]
  },
  {
   "cell_type": "code",
   "execution_count": 174,
   "id": "ff3d47b3110475b9",
   "metadata": {},
   "outputs": [],
   "source": [
    "from langchain_openai import OpenAI\n",
    "from langchain_community.document_loaders import TextLoader\n",
    "from langchain.text_splitter import RecursiveCharacterTextSplitter\n",
    "from langchain_openai import OpenAIEmbeddings\n",
    "from langchain_community.vectorstores import FAISS\n",
    "from langchain_core.vectorstores import VectorStoreRetriever\n",
    "from langchain.chains import RetrievalQA\n",
    "import os\n"
   ]
  },
  {
   "cell_type": "markdown",
   "id": "8418ff02-85c6-47a3-ae2f-c7f5c89ab27a",
   "metadata": {},
   "source": [
    "Load OpenAI API KEY in the environment. Make sure you have a `.env` file one directory higher, which contains your OpenAI API KEY. "
   ]
  },
  {
   "cell_type": "code",
   "execution_count": 175,
   "id": "dfe276ed-d934-4204-a213-ae99656c0001",
   "metadata": {
    "ExecuteTime": {
     "end_time": "2025-02-06T21:48:12.880711Z",
     "start_time": "2025-02-06T21:48:12.867353Z"
    }
   },
   "outputs": [],
   "source": [
    "from dotenv import load_dotenv"
   ]
  },
  {
   "cell_type": "code",
   "execution_count": 176,
   "id": "62e570ed6511edd6",
   "metadata": {
    "ExecuteTime": {
     "end_time": "2025-02-06T21:51:57.137627Z",
     "start_time": "2025-02-06T21:51:57.107925Z"
    }
   },
   "outputs": [
    {
     "data": {
      "text/plain": [
       "True"
      ]
     },
     "execution_count": 176,
     "metadata": {},
     "output_type": "execute_result"
    }
   ],
   "source": [
    "load_dotenv(\"../.env\")"
   ]
  },
  {
   "cell_type": "markdown",
   "id": "892a54e2-9e51-40ae-bd20-66a65da96ec8",
   "metadata": {},
   "source": [
    "## Loading text covering the theoritcal knowledge on DDD modeling "
   ]
  },
  {
   "cell_type": "code",
   "execution_count": 177,
   "id": "d85c8e549ac65e8e",
   "metadata": {},
   "outputs": [],
   "source": [
    "loader = TextLoader(\"../examples/ddd-theory1.txt\")"
   ]
  },
  {
   "cell_type": "code",
   "execution_count": 178,
   "id": "0f48dfaf-36fd-4461-9831-9bba267d109a",
   "metadata": {
    "scrolled": true
   },
   "outputs": [],
   "source": [
    "documents = loader.load()"
   ]
  },
  {
   "cell_type": "code",
   "execution_count": 201,
   "id": "3295931f-a83c-447d-a85e-c99caefa412c",
   "metadata": {},
   "outputs": [],
   "source": [
    "text_splitter = RecursiveCharacterTextSplitter(\n",
    "    chunk_size = 500,\n",
    "    chunk_overlap = 150,\n",
    "    length_function = len,\n",
    ")"
   ]
  },
  {
   "cell_type": "code",
   "execution_count": 202,
   "id": "4c088d51-41ae-43ce-a913-b2446441b5d4",
   "metadata": {},
   "outputs": [],
   "source": [
    "c_docs = text_splitter.split_documents(documents)"
   ]
  },
  {
   "cell_type": "code",
   "execution_count": 203,
   "id": "7c79a0ba-8387-45b1-9abc-a952eba3685b",
   "metadata": {},
   "outputs": [
    {
     "data": {
      "text/plain": [
       "[Document(metadata={'source': '../examples/ddd-theory1.txt'}, page_content='Domain-Driven Design: Simple Explanation\\nIn this article, we will cover:\\n\\nStrategic Design\\nTactical Design\\nAggregate\\nRepositories and Services\\nWhen you are trying to build complex software it is important that everyone is on the same page. Even though most of us prefer to work alone, at home, with an endless supply of coffee, good software just isn’t built that way.'),\n",
       " Document(metadata={'source': '../examples/ddd-theory1.txt'}, page_content='The software itself should represent the business, and it should be clear from the code how the business functions. Software development is difficult enough without the business and engineering using different names for the same thing.\\n\\nThis is where Domain Driven Design (DDD) comes in, which was made popular by Eric Evans in his 2003 book Domain Driven Design: Tackling Complexity in the Heart of Software.'),\n",
       " Document(metadata={'source': '../examples/ddd-theory1.txt'}, page_content='In this article, I am going to cover the key concepts that you need to know so that you can use DDD in your next project.\\n\\nPlay\\nStrategic Design #\\nThe first step in using DDD is what we call Strategic Design. Although it is possible to use DDD with an existing application it is a lot easier to do when the application is built with it in mind.'),\n",
       " Document(metadata={'source': '../examples/ddd-theory1.txt'}, page_content='We need to work out what the different subdomains are in the business. A subdomain in this case refers to the subject area in which we are building the application and subdomains are part of that application.\\n\\nIt is important when working out the subdomains that you use the correct language.'),\n",
       " Document(metadata={'source': '../examples/ddd-theory1.txt'}, page_content='It is important when working out the subdomains that you use the correct language.\\n\\nYou want the words that you use to describe objects in your application to be the same words that are used by the business. This has the grand name of “Ubiquitous language”, which is just a fancy way of saying, everyone needs to use the same words to describe the business.\\n\\nSubdomains #\\nLet’s use Netflix as an example. If we were to build Netflix from scratch using DDD then what domains would we have?'),\n",
       " Document(metadata={'source': '../examples/ddd-theory1.txt'}, page_content='Video Streaming — this is obviously the main part of the business, so this would be a core domain.\\nRecommendations — the recommendations engine and the machine learning involved is likely another subdomain.\\nBilling — billing and handling the monthly subscriptions could be another subdomain.\\nThere are likely quite a few more domains that we haven’t covered here as well.'),\n",
       " Document(metadata={'source': '../examples/ddd-theory1.txt'}, page_content='Working out what the subdomains are should always be done as a group exercise with the business. If the engineering team tries to work out what the domains are themselves then it might not be representative of the business which defeats the whole point of using Domain Driven Design.\\n\\nThe aim here is to end up with a system that reflects the real-world domain that it is trying to solve.'),\n",
       " Document(metadata={'source': '../examples/ddd-theory1.txt'}, page_content='The aim here is to end up with a system that reflects the real-world domain that it is trying to solve.\\n\\nWorking out all the domains is going to be an iterative process. You might find that one of your domains is huge and needs to be broken down further.\\n\\nOnce you have worked out what the main domains are, the next step is to work out the key parts that make up each domain.'),\n",
       " Document(metadata={'source': '../examples/ddd-theory1.txt'}, page_content='Once you have worked out what the main domains are, the next step is to work out the key parts that make up each domain.\\n\\nBounded Context #\\nIf we have a closer look at the billing domain we might have subscribers, accounts, payment details and subscription plans.\\n\\nWhat you will notice when you go through this exercise is that there will be parts common across multiple subdomains. For example, the subscribers or users will likely come up across the whole system.'),\n",
       " Document(metadata={'source': '../examples/ddd-theory1.txt'}, page_content='Each domain will have its own preference as to what to call the users. The billing domain may call them subscribers or customers. The video streaming domain might call them viewers.\\n\\nDDD copes with this by creating what is called a Bounded Context. Each subdomain will have its own Bounded Context allowing the language to be used for each domain to be different.'),\n",
       " Document(metadata={'source': '../examples/ddd-theory1.txt'}, page_content='You don’t need to try to force the entire business to agree on what to call “Users” you just need to agree on the language to use within that subdomain.\\n\\nIf you have done a good job you should find some clear separation between the different subdomains and the language used. Each subdomain should have at least a few things that are unique to just that domain.\\n\\nFor example, the billing domain will contain payment details which you wouldn’t expect to see in any of the other domains.'),\n",
       " Document(metadata={'source': '../examples/ddd-theory1.txt'}, page_content='For example, the billing domain will contain payment details which you wouldn’t expect to see in any of the other domains.\\n\\nThe aim here is to build up a model with the business of all the different elements that make up each domain. The elements inside the domain are called Entities which I will cover in more detail in a bit.\\n\\nRelationships #\\nOnce we know what all the different subdomains are we need to work out how they interact and what relationships exist between them.'),\n",
       " Document(metadata={'source': '../examples/ddd-theory1.txt'}, page_content='Relationships #\\nOnce we know what all the different subdomains are we need to work out how they interact and what relationships exist between them.\\n\\nWe do this by creating a Context Map which outlines which subdomains communicate with each other, how they communicate and the direction of the communication.\\n\\nThe interactions between subdomains will usually happen between entities.'),\n",
       " Document(metadata={'source': '../examples/ddd-theory1.txt'}, page_content='The interactions between subdomains will usually happen between entities.\\n\\nBack to our Netflix example, the video streaming domain will need to know what video quality to stream to the viewers.\\n\\nThis all depends on what subscription plan they are paying for:\\n\\nBasic — HD\\nStandard — Full HD\\nPremium — Ultra HD\\nThe subscription plan however will be outside the bounded context of the streaming domain. It doesn’t need to know what users are paying it only cares about streaming videos.'),\n",
       " Document(metadata={'source': '../examples/ddd-theory1.txt'}, page_content='The streaming domain will therefore need to check with the billing domain to find out what quality video to serve to the user.\\n\\nOf course, the billing domain doesn’t care about video quality it only cares about the user’s subscription plan.\\n\\nSo we need to do a mapping between the viewer in the streaming domain with the subscriber in the billing domain.'),\n",
       " Document(metadata={'source': '../examples/ddd-theory1.txt'}, page_content='So we need to do a mapping between the viewer in the streaming domain with the subscriber in the billing domain.\\n\\nNow to make sure we don’t pollute either domain with information that doesn’t need to be there, we create what we call an anti-corruption layer which does the translation between domains for us.\\n\\nOnce we have outlined all the domains and how they all interact we move on to the next stage which is tactical design.'),\n",
       " Document(metadata={'source': '../examples/ddd-theory1.txt'}, page_content='Once we have outlined all the domains and how they all interact we move on to the next stage which is tactical design.\\n\\nTactical Design #\\nIn this stage, we look at trying to refine our domain models a bit further. To do this we look at each of our domains and work out what all the objects are inside them.\\n\\nDomain Objects come in two forms.'),\n",
       " Document(metadata={'source': '../examples/ddd-theory1.txt'}, page_content='Domain Objects come in two forms.\\n\\nEntities #\\nThe entities of a domain object link to their real-world counterparts. So an example of an entity might be the subscriber in our Netflix example.\\n\\nEach entity has an ID and it is this ID that makes them unique. Two different entities with the same properties would be considered different entities if they have different IDs.'),\n",
       " Document(metadata={'source': '../examples/ddd-theory1.txt'}, page_content='Entities are mutable, you can change their properties over time. For example, a subscriber could change their email address and it would still be the same subscriber as it has the same ID.\\n\\nThe other domain objects to consider are called Value Objects.\\n\\nValue Objects #\\nA value object, as the name suggests, generally corresponds to a value in your domain.\\n\\nEntities can consist of several value objects. For a subscriber, this could be their email address or their date of birth.'),\n",
       " Document(metadata={'source': '../examples/ddd-theory1.txt'}, page_content='Entities can consist of several value objects. For a subscriber, this could be their email address or their date of birth.\\n\\nValue objects are not unique and two objects with the same value are considered equal. If you are creating value objects in languages like C# or Java then you will need to override the Equals and HashCode methods so that when you compare them they are considered equal.'),\n",
       " Document(metadata={'source': '../examples/ddd-theory1.txt'}, page_content='Unlike Entities, Value Objects should be immutable. You can’t update them, if you need a different value then you just create a new one.\\n\\nWe generally do this by only allowing values to be entered in the constructor and then not providing any setter methods.\\n\\nThe key thing to understand here is they are an object. You could just as easily create a string to store the email address but by creating a Value Object you are explicitly saying that this is an important part of your domain.'),\n",
       " Document(metadata={'source': '../examples/ddd-theory1.txt'}, page_content='The fact that it is an object means that you can add additional validation and business logic in the constructor. This can be really useful. For example, if you have an email address object, you don’t need to check everywhere in your code that it is in fact a valid email address, you can do that inside the value object.\\n\\nEven if you don’t end up using Domain Driven Design, value objects can be a great way to write cleaner code in your applications.'),\n",
       " Document(metadata={'source': '../examples/ddd-theory1.txt'}, page_content='Even if you don’t end up using Domain Driven Design, value objects can be a great way to write cleaner code in your applications.\\n\\nEntity or Value Object? #\\nWhen modelling your objects it can be difficult to decide whether something should be an entity or a value object.'),\n",
       " Document(metadata={'source': '../examples/ddd-theory1.txt'}, page_content='Entity or Value Object? #\\nWhen modelling your objects it can be difficult to decide whether something should be an entity or a value object.\\n\\nGenerally, it depends on how important that object is in your domain model. For example, in many domains, the address is just information. It is part of the billing details but doesn’t have any meaning in the system beyond that.'),\n",
       " Document(metadata={'source': '../examples/ddd-theory1.txt'}, page_content='Now imagine you are creating a real estate application. Now the address isn’t just information, it is key to understanding the property. In this case, it is more likely to be an entity.\\n\\nGenerally, you want to have more Value Objects than Entities in your domain as value objects are simpler to work with as they are small and immutable.\\n\\nAggregate #\\nNow that we know about Entities and Value Objects, the next important object to consider in DDD is called an aggregate.'),\n",
       " Document(metadata={'source': '../examples/ddd-theory1.txt'}, page_content='Aggregate #\\nNow that we know about Entities and Value Objects, the next important object to consider in DDD is called an aggregate.\\n\\nAn aggregate, as the name suggests, is a group of several entities and value objects.\\n\\nAn example of an aggregate could be a customer’s order. It is made up of the customer, the products they have ordered, the order price and other details such as the shipping address.'),\n",
       " Document(metadata={'source': '../examples/ddd-theory1.txt'}, page_content='An aggregate is also a transactional boundary, so whenever changes are made they should be either committed or rolled back in a single transaction to the database. This way the aggregate is always in a consistent state.\\n\\nLike Entities, aggregates also have an ID so they can be referenced from other parts of your application.'),\n",
       " Document(metadata={'source': '../examples/ddd-theory1.txt'}, page_content='Like Entities, aggregates also have an ID so they can be referenced from other parts of your application.\\n\\nThe aggregate is also responsible for enforcing business invariants. These are business rules that always remain true no matter what you do in the system. For example, you might have a rule that the order total should be the sum of the products ordered. You might have another rule that stops people from ordering more of a product than what is in stock.'),\n",
       " Document(metadata={'source': '../examples/ddd-theory1.txt'}, page_content='Obviously, all of this comes at a cost. The more rules that you add to your aggregate, the longer it is going to take to do updates, which could affect user experience.\\n\\nSo generally there is a bit of a trade-off between performance and consistency that you need to keep in mind. In some cases, it makes more sense to add what we call a corrective policy that will run on a regular basis, which will either fix or flag anything that isn’t correct.'),\n",
       " Document(metadata={'source': '../examples/ddd-theory1.txt'}, page_content='Repositories and Services #\\nFinally, we have repositories and services, which if you have done any backend development you will probably be familiar with.\\n\\nThe repositories in this case are the persistence layer for our aggregates so that they can be stored in the database.\\n\\nThen we have services which contain additional business logic which either won’t fit into a single aggregate or spans multiple aggregates.\\n\\nOnce you have everything mapped you are ready to start building the application.'),\n",
       " Document(metadata={'source': '../examples/ddd-theory1.txt'}, page_content='Once you have everything mapped you are ready to start building the application.\\n\\nIf you want to learn the best approach to do that I suggest your read this article on hexagonal architecture.')]"
      ]
     },
     "execution_count": 203,
     "metadata": {},
     "output_type": "execute_result"
    }
   ],
   "source": [
    "c_docs"
   ]
  },
  {
   "cell_type": "code",
   "execution_count": 204,
   "id": "69911028-54c2-4af2-89fb-71bb178f6cd0",
   "metadata": {},
   "outputs": [
    {
     "data": {
      "text/plain": [
       "31"
      ]
     },
     "execution_count": 204,
     "metadata": {},
     "output_type": "execute_result"
    }
   ],
   "source": [
    "len(c_docs)"
   ]
  },
  {
   "cell_type": "code",
   "execution_count": 205,
   "id": "e1152708-cdde-48cb-89e8-6e35e12039b2",
   "metadata": {},
   "outputs": [
    {
     "data": {
      "text/plain": [
       "Document(metadata={'source': '../examples/ddd-theory1.txt'}, page_content='Domain-Driven Design: Simple Explanation\\nIn this article, we will cover:\\n\\nStrategic Design\\nTactical Design\\nAggregate\\nRepositories and Services\\nWhen you are trying to build complex software it is important that everyone is on the same page. Even though most of us prefer to work alone, at home, with an endless supply of coffee, good software just isn’t built that way.')"
      ]
     },
     "execution_count": 205,
     "metadata": {},
     "output_type": "execute_result"
    }
   ],
   "source": [
    "c_docs[0]"
   ]
  },
  {
   "cell_type": "markdown",
   "id": "af534bf7-c5b0-4861-a97c-139b12e75105",
   "metadata": {},
   "source": [
    "## Embedding with FAISS"
   ]
  },
  {
   "cell_type": "markdown",
   "id": "c978a444-311e-41fe-acf1-a95a765d6628",
   "metadata": {},
   "source": [
    "#### Embedding\n",
    "The chunked documents will be embedded with OpenAIEmbeddings, which basically means that each chunk will be \"laid down\" in a high dimensional vector space whose \"coordinates\" represents its location in this space.\n",
    "#### Vectorstore\n",
    "FAISS implements a vectorstore and different similarity search algorithms for in-memory storing of vectors, for persisting vectors to disk and for performing similarity searches (semantic searching).\n",
    "A popular search method: cosine similarity search where the distance between vectors are calculated. Vectors closely located to each other in space are more similar versus vectors more distantly located are less similar (related) to each other. When a sentence/word/text is embedded, that is \"projected into a vector space location\", it will be laid down near vectors (text representations) which are similar to it. The closest an embedded text (vector) is to another vector in the space the smaller the distance is (based on cosine method). The closest (nearest to 0), the most similar.\n",
    "FAISS holds all projected chunks as vectors in a vectorstore and if the store is persisted, it can be used later for retrieval of vectors in combination with the proper embedding model.\n"
   ]
  },
  {
   "cell_type": "code",
   "execution_count": 206,
   "id": "3a1d5f76-71d8-4de9-bb23-a5fcbeeb5cdf",
   "metadata": {},
   "outputs": [],
   "source": [
    "# create an OpenAI Embedding model\n",
    "embedding = OpenAIEmbeddings()"
   ]
  },
  {
   "cell_type": "code",
   "execution_count": 207,
   "id": "ab2b6029-9d3a-4462-90d4-09f95ea3dc15",
   "metadata": {},
   "outputs": [],
   "source": [
    "# get a vector store from the given document chunks (from one whole document)\n",
    "vst = FAISS.from_documents(c_docs, embedding)"
   ]
  },
  {
   "cell_type": "markdown",
   "id": "2d0b0ebb516a6d7c",
   "metadata": {},
   "source": [
    "Let us do a similarity search based on the following sentence (query):"
   ]
  },
  {
   "cell_type": "code",
   "execution_count": 208,
   "id": "e649501a-f46c-43a0-9c7d-594012904aef",
   "metadata": {},
   "outputs": [],
   "source": [
    "query = 'What is an value object'"
   ]
  },
  {
   "cell_type": "code",
   "execution_count": 209,
   "id": "df7a3190-4b32-4c28-88ae-c028a485e19a",
   "metadata": {
    "ExecuteTime": {
     "end_time": "2025-02-07T13:21:59.736840Z",
     "start_time": "2025-02-07T13:21:58.841282Z"
    }
   },
   "outputs": [],
   "source": [
    "# similarity search without score returned\n",
    "answer = vst.similarity_search(query)"
   ]
  },
  {
   "cell_type": "code",
   "execution_count": 210,
   "id": "159bf033-d8d9-4a70-aa94-1ea641c2ac4a",
   "metadata": {},
   "outputs": [
    {
     "name": "stdout",
     "output_type": "stream",
     "text": [
      "Even if you don’t end up using Domain Driven Design, value objects can be a great way to write cleaner code in your applications.\n",
      "\n",
      "Entity or Value Object? #\n",
      "When modelling your objects it can be difficult to decide whether something should be an entity or a value object.\n"
     ]
    }
   ],
   "source": [
    "print(answer[1].page_content)"
   ]
  },
  {
   "cell_type": "code",
   "execution_count": 211,
   "id": "5d127f66-86f7-48b5-87af-859140d7b2ed",
   "metadata": {},
   "outputs": [],
   "source": [
    "# similarity search with score returned\n",
    "answer_with_score = vst.similarity_search_with_score(query)"
   ]
  },
  {
   "cell_type": "code",
   "execution_count": 212,
   "id": "7007efdd-499e-42c0-b45a-3ca12ab01ed2",
   "metadata": {},
   "outputs": [
    {
     "name": "stdout",
     "output_type": "stream",
     "text": [
      "(Document(id='073a93ae-80bb-4dd7-b75b-57f3205b7833', metadata={'source': '../examples/ddd-theory1.txt'}, page_content='Unlike Entities, Value Objects should be immutable. You can’t update them, if you need a different value then you just create a new one.\\n\\nWe generally do this by only allowing values to be entered in the constructor and then not providing any setter methods.\\n\\nThe key thing to understand here is they are an object. You could just as easily create a string to store the email address but by creating a Value Object you are explicitly saying that this is an important part of your domain.'), 0.30747503)\n"
     ]
    }
   ],
   "source": [
    "print(answer_with_score[0])"
   ]
  },
  {
   "cell_type": "markdown",
   "id": "d442432e-c7d7-46e4-aaab-c532d646f2ce",
   "metadata": {},
   "source": [
    "## Querying -in memory: Questions and Answers with OpenAI LLM"
   ]
  },
  {
   "cell_type": "markdown",
   "id": "21c172b793f90cef",
   "metadata": {},
   "source": [
    "We will ask the model (OpenAI LLM) about certain things on DDD augmented with DDD domain specific information/knowledge/vocabulary (RAG)."
   ]
  },
  {
   "cell_type": "code",
   "execution_count": 213,
   "id": "2da56a0c-44fb-47f3-b087-bebd0e68a01a",
   "metadata": {},
   "outputs": [],
   "source": [
    "# acquire a retriever object which is a mechanism which knows how to retrieve data from the FAISS store\n",
    "retriever = vst.as_retriever()"
   ]
  },
  {
   "cell_type": "code",
   "execution_count": 214,
   "id": "d58b9601-dbec-4f87-b493-0ffcd9038dd1",
   "metadata": {},
   "outputs": [],
   "source": [
    "# create a RAG QA mechanism which knows how to construct a prompt with some user's question about the domain by including additional related information (context) to some question asked.\n",
    "qa = RetrievalQA.from_chain_type(llm=OpenAI(), chain_type=\"stuff\", retriever=retriever)"
   ]
  },
  {
   "cell_type": "code",
   "execution_count": 215,
   "id": "c23f46d4-11ea-4fd3-9cce-d875b2095c32",
   "metadata": {},
   "outputs": [],
   "source": [
    "# The user's question about DDD\n",
    "\n",
    "# retr_query= 'What is the most important DDD concept?'\n",
    "# retr_query= 'Wat zijn de verschillende DDD modeleer niveaus?'\n",
    "# retr_query= 'Wie heeft DDD bedacht?'\n",
    "retr_query= 'Leg uit de relatie tussen entity, aggregate en value object. Geef voorbeelden voor ieder concept.'"
   ]
  },
  {
   "cell_type": "code",
   "execution_count": 216,
   "id": "84987608-c7c0-4dd8-8a58-4582c0ff7b24",
   "metadata": {},
   "outputs": [],
   "source": [
    "# invoke by passing the question to qa object\n",
    "retr_answer = qa.invoke(retr_query)"
   ]
  },
  {
   "cell_type": "code",
   "execution_count": 217,
   "id": "6a60a85b-796b-4f62-8870-85a713cb4b86",
   "metadata": {},
   "outputs": [
    {
     "name": "stdout",
     "output_type": "stream",
     "text": [
      "{'query': 'Leg uit de relatie tussen entity, aggregate en value object. Geef voorbeelden voor ieder concept.', 'result': ' Een entity is een object met een unieke identiteit en verantwoordelijkheden binnen de domeinlogica. Een aggregate is een groep van meerdere entities en value objects die samenwerken om een specifieke taak of doel te bereiken. Een value object is een object dat geen unieke identiteit heeft en voornamelijk gebruikt wordt om data te dragen en te manipuleren.\\n\\nEen voorbeeld van een entity in een real estate applicatie zou een woning kunnen zijn. Deze heeft een unieke identiteit en verantwoordelijkheden binnen het domein, zoals het hebben van een adres en het kunnen worden gekocht of verkocht.\\n\\nEen voorbeeld van een aggregate in dezelfde applicatie zou een vastgoedportefeuille kunnen zijn. Dit is een groep van meerdere woningen en andere entiteiten en value objects die samenwerken om een bepaald doel te bereiken, zoals het beheren en verhuren van vastgoed.\\n\\nEen voorbeeld van een value object in deze applicatie zou een prijs kunnen zijn. Dit object heeft geen unieke identiteit, maar wordt gebruikt om de waar'}\n"
     ]
    }
   ],
   "source": [
    "print(retr_answer)"
   ]
  },
  {
   "cell_type": "markdown",
   "id": "d960468242a92814",
   "metadata": {},
   "source": [
    "## Querying -from disk:  Questions and Answers with OpenAI LLM"
   ]
  },
  {
   "cell_type": "markdown",
   "id": "b3b1df0c3e3ce007",
   "metadata": {},
   "source": [
    "Before we start querying from a persistent vector store, let us persist what we have added to the vector store so far. At this point we have no persistent vector store yet. To create it on local filesystem we will need to save it first:"
   ]
  },
  {
   "cell_type": "code",
   "execution_count": 218,
   "id": "2b73c1c1-0d79-4ec6-9f06-713d29c9dd87",
   "metadata": {},
   "outputs": [],
   "source": [
    "# save the current state to filesystem under the name 'ddd_concepts' (kinda filename of the store on filesystem).\n",
    "vst.save_local('ddd_concepts')"
   ]
  },
  {
   "cell_type": "markdown",
   "id": "e1d3a453c64d313f",
   "metadata": {},
   "source": [
    "At this point we have a vector store persisted in our local filesystem, which contains the vector representation of our chunked documents (all pertaining to one document, that is the ddd_concepts.txt file).\n",
    "Let us construct a QA object with RAG support."
   ]
  },
  {
   "cell_type": "code",
   "execution_count": 219,
   "id": "70986ff0-5424-4272-be43-008c27b6f4f7",
   "metadata": {},
   "outputs": [],
   "source": [
    "# load the vector representation of our chunked documents based on the same embedding which we used earlier for the chunk document's projection into the vector space.\n",
    "vst_persisted = FAISS.load_local('ddd_concepts', embedding, allow_dangerous_deserialization=True)"
   ]
  },
  {
   "cell_type": "code",
   "execution_count": 223,
   "id": "8ab02a6c-36b8-402f-8454-cc388e8222c6",
   "metadata": {},
   "outputs": [],
   "source": [
    "# create the qa object using OpenAI LLM model and the retriever of the persisted FAISS vector store\n",
    "retr_qa = RetrievalQA.from_chain_type(llm=OpenAI(temperature=0.6), chain_type=\"stuff\", retriever=vst_persisted.as_retriever())"
   ]
  },
  {
   "cell_type": "code",
   "execution_count": 224,
   "id": "198cae39-a0cb-4bdf-9f70-8c853fb60884",
   "metadata": {},
   "outputs": [],
   "source": [
    "# invoke the same question we used in the \"in-memory\" situation above\n",
    "retr_answer = retr_qa.invoke(retr_query)"
   ]
  },
  {
   "cell_type": "code",
   "execution_count": 225,
   "id": "c48bd1cb-036b-4ca9-a0ba-d66581427ae2",
   "metadata": {},
   "outputs": [
    {
     "name": "stdout",
     "output_type": "stream",
     "text": [
      "{'query': 'Leg uit de relatie tussen entity, aggregate en value object. Geef voorbeelden voor ieder concept.', 'result': \"\\nEntities, aggregates, and value objects are all important concepts in Domain-Driven Design (DDD) and they have a close relationship with each other.\\n\\nAn entity is a core concept in DDD and represents a distinct and identifiable object in the domain. Entities have a unique identity and can be referenced from other parts of the application. An example of an entity could be a customer or a product. These are objects that have a unique identity and can be referenced by other objects.\\n\\nAggregates, on the other hand, are a group of entities and value objects that are treated as a single unit. They are responsible for enforcing business invariants and are also transactional boundaries. An example of an aggregate could be a customer's order, which is made up of the customer entity, the products they have ordered (value objects), and other details such as the order price and shipping address.\\n\\nValue objects are objects that have no identity and are immutable. They are used to describe a specific aspect of an entity and are often used within aggregates. An example of a value object could be a product's price or a customer's address. These objects are small and simple, making them easier to work with compared to entities.\\n\\nIn summary, entities, aggregates, and value objects all play important roles\"}\n"
     ]
    }
   ],
   "source": [
    "print(retr_answer)"
   ]
  },
  {
   "cell_type": "code",
   "execution_count": null,
   "id": "1b48e4f9-1360-411b-a4db-85b15bc720fc",
   "metadata": {},
   "outputs": [],
   "source": []
  }
 ],
 "metadata": {
  "kernelspec": {
   "display_name": "Python 3 (ipykernel)",
   "language": "python",
   "name": "python3"
  },
  "language_info": {
   "codemirror_mode": {
    "name": "ipython",
    "version": 3
   },
   "file_extension": ".py",
   "mimetype": "text/x-python",
   "name": "python",
   "nbconvert_exporter": "python",
   "pygments_lexer": "ipython3",
   "version": "3.12.8"
  }
 },
 "nbformat": 4,
 "nbformat_minor": 5
}
