{
 "cells": [
  {
   "cell_type": "markdown",
   "id": "8c540a2895fb77f4",
   "metadata": {},
   "source": [
    "# Querying OpenAI and RAG"
   ]
  },
  {
   "cell_type": "markdown",
   "id": "35ec941330e92b13",
   "metadata": {},
   "source": [
    "This notebook implements a QA object which the user can use to ask questions about ProRail.\n",
    "The scope of the questions are on the business strategical level of ProRail.\n",
    "Questions such as: \n",
    "- \"What are the points of concerns in the last years with respect to the corporate activities of ProRail?\"\n",
    "- \"What are the future business objectives of ProRail?\"\n",
    "- \"Is the Dutch government satisfied with the operational performance of ProRail?\""
   ]
  },
  {
   "cell_type": "markdown",
   "id": "bce589cd-b94a-4d09-b6a8-78679caaf9e8",
   "metadata": {},
   "source": [
    "## Update your local environment\n",
    "Assuming you have already created the conda environment `ddd-llm-app` proceed to execute the following actions.\n",
    "\n",
    "Start a new terminal window (console), cd to the project's root directory and run the following command:\n",
    "\n",
    "````\n",
    "conda activate ddd-llm-app\n",
    "````\n",
    "\n",
    "Update your local conda environment `ddd-llm-app` with `requirements_local.txt` to make sure you have all required dependencies:\n",
    "\n",
    "````\n",
    "pip install -r requirements_local.txt\n",
    "````\n",
    "\n",
    "## Prepare and start Jupyter for running notebooks\n",
    "If you have no Jupyter server installed for running notebooks, please install Jupyter Lab first with the following command.\n",
    "\n",
    "\n",
    "If not, cd to the project's root directory and run the following conda command to activate the environment `ddd-llm-app`:\n",
    "````\n",
    "conda activate ddd-llm-app\n",
    "````\n",
    "\n",
    "Then, in the activated environment `ddd-llm-app` install Jupyter Lab if it is not already installed in your environment:\n",
    "````\n",
    "pip jupyterlab\n",
    "````\n",
    "\n",
    "To run Jupyer the server, execute the following command:\n",
    "\n",
    "````\n",
    "jupyter lab\n",
    "````\n",
    "\n"
   ]
  },
  {
   "cell_type": "code",
   "execution_count": 1,
   "id": "initial_id",
   "metadata": {},
   "outputs": [],
   "source": [
    "import logging\n",
    "from langchain.embeddings.openai import OpenAIEmbeddings\n",
    "from langchain.vectorstores import FAISS\n",
    "from langchain.chat_models import ChatOpenAI\n",
    "from langchain.chains import RetrievalQA\n",
    "from dotenv import load_dotenv"
   ]
  },
  {
   "cell_type": "markdown",
   "id": "6c02f5a2-9e3c-4f1b-b5f1-01dd200b3c4c",
   "metadata": {},
   "source": [
    "## Configurations"
   ]
  },
  {
   "cell_type": "code",
   "execution_count": 2,
   "id": "a29e1a908b61bfb4",
   "metadata": {},
   "outputs": [
    {
     "data": {
      "text/plain": [
       "True"
      ]
     },
     "execution_count": 2,
     "metadata": {},
     "output_type": "execute_result"
    }
   ],
   "source": [
    "load_dotenv()"
   ]
  },
  {
   "cell_type": "code",
   "execution_count": 3,
   "id": "276fbcc14cefa9c0",
   "metadata": {},
   "outputs": [],
   "source": [
    "# Logging setup\n",
    "logging.basicConfig(level=logging.INFO, format=\"%(asctime)s - %(levelname)s - %(message)s\")\n",
    "\n",
    "# Configuration\n",
    "VECTOR_STORE_PATH = \"prorail_dom_idx\"  # Persistent FAISS store"
   ]
  },
  {
   "cell_type": "code",
   "execution_count": 8,
   "id": "9f52d9064aa9a6c5",
   "metadata": {},
   "outputs": [],
   "source": [
    "def get_qa(vector_store_path: str = VECTOR_STORE_PATH):\n",
    "    \"\"\" Create and return a RetrivalQA object over OpenAI, OpenAIEmbedding model and the FAISS vectorstore \"\"\"\n",
    "\n",
    "    embedding_model = OpenAIEmbeddings()\n",
    "    # Load the persisted FAISS index\n",
    "    vector_store = FAISS.load_local(vector_store_path, embedding_model, allow_dangerous_deserialization=True)\n",
    "    llm = ChatOpenAI(model_name=\"gpt-4o\", temperature=0.5)  # Adjust model as needed\n",
    "    retriever = vector_store.as_retriever(search_kwargs={\"k\": 3})  # Retrieve top 3 relevant chunks\n",
    "    qa_chain = RetrievalQA.from_chain_type(llm=llm, chain_type=\"stuff\", retriever=retriever)\n",
    "    return qa_chain"
   ]
  },
  {
   "cell_type": "code",
   "execution_count": 9,
   "id": "90e365014bece8a0",
   "metadata": {},
   "outputs": [],
   "source": [
    "# get a QA object for asking questions\n",
    "qa = get_qa()"
   ]
  },
  {
   "cell_type": "code",
   "execution_count": 10,
   "id": "34e2783c73691f9c",
   "metadata": {},
   "outputs": [
    {
     "name": "stderr",
     "output_type": "stream",
     "text": [
      "2025-02-08 11:32:28,053 - INFO - HTTP Request: POST https://api.openai.com/v1/embeddings \"HTTP/1.1 200 OK\"\n",
      "2025-02-08 11:32:32,588 - INFO - HTTP Request: POST https://api.openai.com/v1/chat/completions \"HTTP/1.1 200 OK\"\n"
     ]
    },
    {
     "data": {
      "text/plain": [
       "{'query': 'Tell something about Prorail with respect to its annual report of 2023.',\n",
       " 'result': 'ProRail\\'s annual report for 2023, titled \"Verbindt. Verbetert. Verduurzaamt.\" (Connects. Improves. Sustains.), covers various aspects of its operations and performance for the year. The report is structured with reference to the GRI Standards, and Deloitte Accountants has provided limited assurance on the non-financial information contained in the report. Key sections of the report include \\'Kerncijfers\\', \\'Het jaar 2023\\', \\'Profiel\\', \\'Onze prestaties\\', \\'Medewerkers\\', \\'Omgeving\\', \\'Besturing\\', and \\'Maatschappelijke verslaglegging\\'.\\n\\nThe report indicates that there were no significant changes in the scope, structure, ownership, or value chain of ProRail during the reporting year. ProRail operates in the Netherlands, and the report does not include a regional breakdown. The report also highlights ProRail\\'s focus on safety, punctuality, reliability, and the impact of infrastructure disruptions on customer experience. However, the organization acknowledges that it has not fully implemented all management approach requirements related to safety and stakeholder engagement as per the GRI Standards.'}"
      ]
     },
     "execution_count": 10,
     "metadata": {},
     "output_type": "execute_result"
    }
   ],
   "source": [
    "qa.invoke(\"Tell something about Prorail with respect to its annual report of 2023.\")"
   ]
  },
  {
   "cell_type": "code",
   "execution_count": null,
   "id": "6538f9bd9c8816d2",
   "metadata": {},
   "outputs": [],
   "source": []
  }
 ],
 "metadata": {
  "kernelspec": {
   "display_name": "Python 3 (ipykernel)",
   "language": "python",
   "name": "python3"
  },
  "language_info": {
   "codemirror_mode": {
    "name": "ipython",
    "version": 3
   },
   "file_extension": ".py",
   "mimetype": "text/x-python",
   "name": "python",
   "nbconvert_exporter": "python",
   "pygments_lexer": "ipython3",
   "version": "3.12.8"
  }
 },
 "nbformat": 4,
 "nbformat_minor": 5
}
